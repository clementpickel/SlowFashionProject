{
 "cells": [
  {
   "cell_type": "markdown",
   "id": "6ab7dc3b",
   "metadata": {},
   "source": [
    "# Experiment on VGG\n",
    "Fine tune VGG16 on Fashion MNIST cause i don't have access to DeepFashion2 yet\n",
    "\n",
    "<img src=\"../assets/image.png\" alt=\"image\" width=\"200\"/>"
   ]
  },
  {
   "cell_type": "markdown",
   "id": "663146d9",
   "metadata": {},
   "source": [
    "## Load pretrained VGG16"
   ]
  },
  {
   "cell_type": "code",
   "execution_count": 1,
   "id": "1719b4bb",
   "metadata": {},
   "outputs": [
    {
     "name": "stderr",
     "output_type": "stream",
     "text": [
      "c:\\Users\\cpick\\Documents\\GitHub\\SlowFashionProject\\.venv\\Lib\\site-packages\\torchvision\\models\\_utils.py:208: UserWarning: The parameter 'pretrained' is deprecated since 0.13 and may be removed in the future, please use 'weights' instead.\n",
      "  warnings.warn(\n",
      "c:\\Users\\cpick\\Documents\\GitHub\\SlowFashionProject\\.venv\\Lib\\site-packages\\torchvision\\models\\_utils.py:223: UserWarning: Arguments other than a weight enum or `None` for 'weights' are deprecated since 0.13 and may be removed in the future. The current behavior is equivalent to passing `weights=VGG11_Weights.IMAGENET1K_V1`. You can also use `weights=VGG11_Weights.DEFAULT` to get the most up-to-date weights.\n",
      "  warnings.warn(msg)\n"
     ]
    },
    {
     "name": "stdout",
     "output_type": "stream",
     "text": [
      "Downloading: \"https://download.pytorch.org/models/vgg11-8a719046.pth\" to C:\\Users\\cpick/.cache\\torch\\hub\\checkpoints\\vgg11-8a719046.pth\n"
     ]
    },
    {
     "name": "stderr",
     "output_type": "stream",
     "text": [
      "100%|██████████| 507M/507M [03:14<00:00, 2.73MB/s] \n"
     ]
    }
   ],
   "source": [
    "import torch\n",
    "import torchvision.models as models\n",
    "\n",
    "# Load pretrained VGG16 model\n",
    "vgg16 = models.vgg11(pretrained=True)\n",
    "\n",
    "# To use without pretrained weights:\n",
    "# vgg16 = models.vgg16(pretrained=False)\n",
    "\n",
    "# Move to GPU if available\n",
    "device = torch.device(\"cuda\" if torch.cuda.is_available() else \"cpu\")\n",
    "vgg16 = vgg16.to(device)\n",
    "\n",
    "# Example: modify classifier for custom 10-class task\n",
    "vgg16.classifier[6] = torch.nn.Linear(4096, 10)"
   ]
  },
  {
   "cell_type": "markdown",
   "id": "8176b939",
   "metadata": {},
   "source": [
    "## Load dataset and augment data"
   ]
  },
  {
   "cell_type": "code",
   "execution_count": 2,
   "id": "6723ff40",
   "metadata": {},
   "outputs": [],
   "source": [
    "from torchvision import datasets, transforms\n",
    "from torch.utils.data import DataLoader\n",
    "\n",
    "# 1. Define the augmentation pipeline\n",
    "train_transform = transforms.Compose([\n",
    "    transforms.RandomHorizontalFlip(),      # Random flip\n",
    "    transforms.RandomRotation(10),           # Rotate images by +/- 10 degrees\n",
    "    transforms.RandomAffine(0, translate=(0.1, 0.1)),  # Translate up to 10% height/width\n",
    "    transforms.Resize(224),       # Resize to VGG expected size\n",
    "    transforms.Grayscale(num_output_channels=3),  # Convert 1-channel to 3\n",
    "    transforms.ToTensor(),                   # Convert PIL image to tensor\n",
    "    transforms.Normalize((0.5,), (0.5,))      # Normalize pixel values to [-1, 1]\n",
    "])\n",
    "\n",
    "test_transform = transforms.Compose([\n",
    "    transforms.ToTensor(), \n",
    "    transforms.Normalize((0.5,), (0.5,))\n",
    "])\n",
    "\n",
    "# 2. Load datasets with transform\n",
    "train_dataset = datasets.FashionMNIST(root='./data', train=True, download=True, transform=train_transform)\n",
    "test_dataset = datasets.FashionMNIST(root='./data', train=False, download=True, transform=test_transform)\n",
    "\n",
    "train_loader = DataLoader(train_dataset, batch_size=64, shuffle=True)\n",
    "test_loader = DataLoader(test_dataset, batch_size=64, shuffle=False)"
   ]
  },
  {
   "cell_type": "code",
   "execution_count": null,
   "id": "0d2755f9",
   "metadata": {},
   "outputs": [
    {
     "ename": "",
     "evalue": "",
     "output_type": "error",
     "traceback": [
      "\u001b[1;31mLe noyau s’est bloqué lors de l’exécution du code dans une cellule active ou une cellule précédente. \n",
      "\u001b[1;31mVeuillez vérifier le code dans la ou les cellules pour identifier une cause possible de l’échec. \n",
      "\u001b[1;31mCliquez <a href='https://aka.ms/vscodeJupyterKernelCrash'>ici</a> pour plus d’informations. \n",
      "\u001b[1;31mPour plus d’informations, consultez Jupyter <a href='command:jupyter.viewOutput'>log</a>."
     ]
    }
   ],
   "source": [
    "import torch.optim as optim\n",
    "import torch.nn as nn\n",
    "\n",
    "criterion = nn.CrossEntropyLoss()\n",
    "optimizer = optim.Adam(vgg16.classifier.parameters(), lr=0.0001) # Only classifier is trainable"
   ]
  },
  {
   "cell_type": "markdown",
   "id": "51b8f662",
   "metadata": {},
   "source": [
    "## Train"
   ]
  },
  {
   "cell_type": "code",
   "execution_count": null,
   "id": "893cc0fa",
   "metadata": {},
   "outputs": [],
   "source": [
    "num_epochs = 5\n",
    "\n",
    "for epoch in range(num_epochs):\n",
    "    vgg16.train()\n",
    "    total_loss = 0\n",
    "    correct = 0\n",
    "\n",
    "    for images, labels in train_loader:\n",
    "        images, labels = images.to(device), labels.to(device)\n",
    "\n",
    "        optimizer.zero_grad()\n",
    "        outputs = vgg16(images)\n",
    "        loss = criterion(outputs, labels)\n",
    "        loss.backward()\n",
    "        optimizer.step()\n",
    "\n",
    "        total_loss += loss.item()\n",
    "        _, predicted = outputs.max(1)\n",
    "        correct += (predicted == labels).sum().item()\n",
    "\n",
    "    accuracy = 100 * correct / len(train_dataset)\n",
    "    print(f\"Epoch [{epoch+1}/{num_epochs}], Loss: {total_loss:.4f}, Accuracy: {accuracy:.2f}%\")\n"
   ]
  },
  {
   "cell_type": "markdown",
   "id": "3d9461e6",
   "metadata": {},
   "source": [
    "## Eval"
   ]
  },
  {
   "cell_type": "code",
   "execution_count": null,
   "id": "c8c82ee1",
   "metadata": {},
   "outputs": [],
   "source": [
    "vgg16.eval()\n",
    "correct = 0\n",
    "\n",
    "with torch.no_grad():\n",
    "    for images, labels in test_loader:\n",
    "        images, labels = images.to(device), labels.to(device)\n",
    "        outputs = vgg16(images)\n",
    "        _, predicted = outputs.max(1)\n",
    "        correct += (predicted == labels).sum().item()\n",
    "\n",
    "test_acc = 100 * correct / len(test_dataset)\n",
    "print(f\"Test Accuracy: {test_acc:.2f}%\")"
   ]
  }
 ],
 "metadata": {
  "kernelspec": {
   "display_name": ".venv",
   "language": "python",
   "name": "python3"
  },
  "language_info": {
   "codemirror_mode": {
    "name": "ipython",
    "version": 3
   },
   "file_extension": ".py",
   "mimetype": "text/x-python",
   "name": "python",
   "nbconvert_exporter": "python",
   "pygments_lexer": "ipython3",
   "version": "3.12.6"
  }
 },
 "nbformat": 4,
 "nbformat_minor": 5
}
