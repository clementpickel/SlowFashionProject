{
 "cells": [
  {
   "cell_type": "markdown",
   "id": "2575061c",
   "metadata": {},
   "source": [
    "# Imports"
   ]
  },
  {
   "cell_type": "code",
   "execution_count": null,
   "id": "18b38994",
   "metadata": {},
   "outputs": [],
   "source": [
    "import torch\n",
    "import torch.nn as nn\n",
    "import torch.optim as optim\n",
    "from torchvision import datasets, transforms, models\n",
    "from torch.utils.data import DataLoader"
   ]
  },
  {
   "cell_type": "markdown",
   "id": "06f8834d",
   "metadata": {},
   "source": [
    "# Device configuration\n"
   ]
  },
  {
   "cell_type": "code",
   "execution_count": null,
   "id": "81194b4f",
   "metadata": {},
   "outputs": [],
   "source": [
    "device = torch.device(\"cuda\" if torch.cuda.is_available() else \"cpu\")\n",
    "print(device)"
   ]
  },
  {
   "cell_type": "markdown",
   "id": "90c29e1d",
   "metadata": {},
   "source": [
    "# 1. Data preprocessing\n"
   ]
  },
  {
   "cell_type": "code",
   "execution_count": null,
   "id": "ab279ec9",
   "metadata": {},
   "outputs": [],
   "source": [
    "transform = transforms.Compose([\n",
    "    transforms.Resize((224, 224)),              # Resize to 224x224\n",
    "    transforms.Grayscale(num_output_channels=3),# Convert 1 channel to 3 channels\n",
    "    transforms.ToTensor(),                      # Convert to tensor\n",
    "    transforms.Normalize((0.5,), (0.5,))         # Normalize (simple mean/std)\n",
    "])\n",
    "\n",
    "train_dataset = datasets.FashionMNIST(root='./data', train=True, download=True, transform=transform)\n",
    "test_dataset  = datasets.FashionMNIST(root='./data', train=False, download=True, transform=transform)\n",
    "\n",
    "train_loader = DataLoader(train_dataset, batch_size=64, shuffle=True)\n",
    "test_loader  = DataLoader(test_dataset, batch_size=64, shuffle=False)\n"
   ]
  },
  {
   "cell_type": "markdown",
   "id": "907f1c70",
   "metadata": {},
   "source": [
    "# 2. Load VGG16 model and modify the classifier\n"
   ]
  },
  {
   "cell_type": "code",
   "execution_count": null,
   "id": "895ce550",
   "metadata": {},
   "outputs": [],
   "source": [
    "model = models.vgg16(pretrained=True)\n",
    "model.classifier[6] = nn.Linear(4096, 10)  # Fashion MNIST has 10 classes\n",
    "model = model.to(device)"
   ]
  },
  {
   "cell_type": "markdown",
   "id": "8add09d2",
   "metadata": {},
   "source": [
    "# 3. Loss and optimizer\n"
   ]
  },
  {
   "cell_type": "code",
   "execution_count": null,
   "id": "28785b10",
   "metadata": {},
   "outputs": [],
   "source": [
    "criterion = nn.CrossEntropyLoss()\n",
    "optimizer = optim.Adam(model.parameters(), lr=0.0001)"
   ]
  },
  {
   "cell_type": "markdown",
   "id": "a479bddc",
   "metadata": {},
   "source": [
    "# 4. Training function\n"
   ]
  },
  {
   "cell_type": "code",
   "execution_count": null,
   "id": "ad96ce21",
   "metadata": {},
   "outputs": [],
   "source": [
    "def train_model(model, epochs=5):\n",
    "    model.train()\n",
    "    for epoch in range(epochs):\n",
    "        running_loss = 0.0\n",
    "        for images, labels in train_loader:\n",
    "            images, labels = images.to(device), labels.to(device)\n",
    "\n",
    "            optimizer.zero_grad()\n",
    "            outputs = model(images)\n",
    "            loss = criterion(outputs, labels)\n",
    "            loss.backward()\n",
    "            optimizer.step()\n",
    "\n",
    "            running_loss += loss.item()\n",
    "\n",
    "        print(f\"Epoch [{epoch+1}/{epochs}], Loss: {running_loss/len(train_loader):.4f}\")\n"
   ]
  },
  {
   "cell_type": "markdown",
   "id": "68734eef",
   "metadata": {},
   "source": [
    "# 5. Testing function\n"
   ]
  },
  {
   "cell_type": "code",
   "execution_count": null,
   "id": "9e235660",
   "metadata": {},
   "outputs": [],
   "source": [
    "def test_model(model):\n",
    "    model.eval()\n",
    "    correct = 0\n",
    "    total = 0\n",
    "\n",
    "    with torch.no_grad():\n",
    "        for images, labels in test_loader:\n",
    "            images, labels = images.to(device), labels.to(device)\n",
    "            outputs = model(images)\n",
    "            _, predicted = torch.max(outputs, 1)\n",
    "            total += labels.size(0)\n",
    "            correct += (predicted == labels).sum().item()\n",
    "\n",
    "    print(f\"Test Accuracy: {100 * correct / total:.2f}%\")"
   ]
  },
  {
   "cell_type": "markdown",
   "id": "ee4f613e",
   "metadata": {},
   "source": [
    "# 6. Run training and testing"
   ]
  },
  {
   "cell_type": "code",
   "execution_count": null,
   "id": "76535655",
   "metadata": {},
   "outputs": [],
   "source": [
    "\n",
    "train_model(model, epochs=5)\n",
    "test_model(model)"
   ]
  }
 ],
 "metadata": {
  "language_info": {
   "name": "python"
  }
 },
 "nbformat": 4,
 "nbformat_minor": 5
}
