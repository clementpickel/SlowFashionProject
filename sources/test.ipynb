{
 "cells": [
  {
   "cell_type": "code",
   "execution_count": 1,
   "id": "58599797",
   "metadata": {},
   "outputs": [
    {
     "name": "stdout",
     "output_type": "stream",
     "text": [
      "PyTorch version: 2.7.0+cu128\n",
      "Using device: cuda\n",
      "Tensor is on: cuda:0\n"
     ]
    }
   ],
   "source": [
    "import torch\n",
    "\n",
    "print(\"PyTorch version:\", torch.__version__)\n",
    "# Check if CUDA is available and set the device\n",
    "device = torch.device(\"cuda\")\n",
    "\n",
    "# Print which device is being used (should print \"cuda\" if GPU is available)\n",
    "print(f\"Using device: {device}\")\n",
    "\n",
    "# Example of creating a tensor and moving it to the GPU\n",
    "tensor = torch.randn(3, 3)  # Create a random tensor\n",
    "tensor = tensor.to(device)  # Move tensor to the GPU (if available)\n",
    "print(f\"Tensor is on: {tensor.device}\")\n",
    "\n",
    "# Example of moving a model to the GPU\n",
    "# Assuming you have a model called 'model', you can do:\n",
    "# model = model.to(device)"
   ]
  },
  {
   "cell_type": "code",
   "execution_count": 2,
   "id": "64445321",
   "metadata": {},
   "outputs": [
    {
     "data": {
      "text/plain": [
       "True"
      ]
     },
     "execution_count": 2,
     "metadata": {},
     "output_type": "execute_result"
    }
   ],
   "source": [
    "torch.cuda.is_available()"
   ]
  },
  {
   "cell_type": "code",
   "execution_count": 3,
   "id": "5c1114c5",
   "metadata": {},
   "outputs": [
    {
     "name": "stdout",
     "output_type": "stream",
     "text": [
      "NVIDIA GeForce RTX 3070\n"
     ]
    }
   ],
   "source": [
    "print(torch.cuda.get_device_name(0))  # This should print the name of your GPU (3070)"
   ]
  }
 ],
 "metadata": {
  "kernelspec": {
   "display_name": ".venv",
   "language": "python",
   "name": "python3"
  },
  "language_info": {
   "codemirror_mode": {
    "name": "ipython",
    "version": 3
   },
   "file_extension": ".py",
   "mimetype": "text/x-python",
   "name": "python",
   "nbconvert_exporter": "python",
   "pygments_lexer": "ipython3",
   "version": "3.12.9"
  }
 },
 "nbformat": 4,
 "nbformat_minor": 5
}
